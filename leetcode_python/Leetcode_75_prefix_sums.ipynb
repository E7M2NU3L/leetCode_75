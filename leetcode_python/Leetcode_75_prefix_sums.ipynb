{
  "nbformat": 4,
  "nbformat_minor": 0,
  "metadata": {
    "colab": {
      "provenance": []
    },
    "kernelspec": {
      "name": "python3",
      "display_name": "Python 3"
    },
    "language_info": {
      "name": "python"
    }
  },
  "cells": [
    {
      "cell_type": "markdown",
      "source": [
        "# 1732. Find the Highest Altitude\n",
        "Easy\n",
        "Topics\n",
        "Companies\n",
        "Hint\n",
        "There is a biker going on a road trip. The road trip consists of n + 1 points at different altitudes. The biker starts his trip on point 0 with altitude equal 0.\n",
        "\n",
        "You are given an integer array gain of length n where gain[i] is the net gain in altitude between points i​​​​​​ and i + 1 for all (0 <= i < n). Return the highest altitude of a point.\n",
        "\n",
        "\n",
        "\n",
        "Example 1:\n",
        "\n",
        "Input: gain = [-5,1,5,0,-7]\n",
        "Output: 1\n",
        "Explanation: The altitudes are [0,-5,-4,1,1,-6]. The highest is 1.\n",
        "Example 2:\n",
        "\n",
        "Input: gain = [-4,-3,-2,-1,4,3,2]\n",
        "Output: 0\n",
        "Explanation: The altitudes are [0,-4,-7,-9,-10,-6,-3,-1]. The highest is 0."
      ],
      "metadata": {
        "id": "5oTj1RsW1x8z"
      }
    },
    {
      "cell_type": "code",
      "execution_count": null,
      "metadata": {
        "id": "s5unegYV0nZk"
      },
      "outputs": [],
      "source": [
        "class FindHighestAlt:\n",
        "  def __init__(self, gain : list[int]) -> None:\n",
        "    self.gain = gain\n",
        "\n",
        "  def largestAltitude(self):\n",
        "    # solving by sliding window method\n",
        "    max_altitude = float('-inf')\n",
        "\n",
        "    # set the starting altitude point to be 0\n",
        "    curr_gain = 0\n",
        "\n",
        "    # loop through the gains\n",
        "    for gain_val in self.gain:\n",
        "      # find the difference between the curr point and see if it is greater than the max altitude\n",
        "      diff = curr_gain + gain_val\n",
        "\n",
        "      # initial check is -inf is greater than starting gain point 0\n",
        "      if max_altitude < curr_gain:\n",
        "        max_altitude = curr_gain\n",
        "\n",
        "      # if diff is greater than the maximum altutude change the maximum altitude\n",
        "      if diff > max_altitude:\n",
        "        max_altitude = diff\n",
        "\n",
        "      # set the curr gain to the present gain value tested\n",
        "      curr_gain = diff\n",
        "\n",
        "    # finally return the maximum altitude\n",
        "    return max_altitude"
      ]
    },
    {
      "cell_type": "code",
      "source": [
        "test_gain_1 = [-5,1,5,0,-7] # output = 1\n",
        "test_gain_2 = [-4,-3,-2,-1,4,3,2] # output = 0"
      ],
      "metadata": {
        "id": "KSGQqC8x3fmJ"
      },
      "execution_count": null,
      "outputs": []
    },
    {
      "cell_type": "code",
      "source": [
        "# solving by two pointer method\n",
        "max_altitude = float('-inf')\n",
        "\n",
        "# set the starting altitude point to be 0\n",
        "curr_gain = 0\n",
        "\n",
        "# loop through the gains\n",
        "for gain_val in test_gain_1:\n",
        "  print(\"Present Gain Value: {0}\".format(gain_val))\n",
        "  # find the difference between the curr point and see if it is greater than the max altitude\n",
        "  diff = curr_gain + gain_val\n",
        "  print(\"Difference between gain value: {0} and current gain: {1} is {2}\".format(gain_val, curr_gain, diff))\n",
        "\n",
        "  # initial check is -inf is greater than starting gain point 0\n",
        "  if max_altitude < curr_gain:\n",
        "    max_altitude = curr_gain\n",
        "\n",
        "  # if diff is greater than the maximum altutude change the maximum altitude\n",
        "  if diff > max_altitude:\n",
        "    max_altitude = diff\n",
        "\n",
        "  # set the curr gain to the present gain value tested\n",
        "  curr_gain = diff\n",
        "  print(\"Gain value now: {0} and max altitude now: {1}\".format(curr_gain, max_altitude))\n",
        "\n",
        "print(\"\\n\")"
      ],
      "metadata": {
        "colab": {
          "base_uri": "https://localhost:8080/"
        },
        "id": "gc-Tmyg34mkz",
        "outputId": "ce83d938-9b2d-4f78-8dfb-48c6f92319a4"
      },
      "execution_count": null,
      "outputs": [
        {
          "output_type": "stream",
          "name": "stdout",
          "text": [
            "Present Gain Value: -5\n",
            "Difference between gain value: -5 and current gain: 0 is -5\n",
            "Gain value now: -5 and max altitude now: 0\n",
            "Present Gain Value: 1\n",
            "Difference between gain value: 1 and current gain: -5 is -4\n",
            "Gain value now: -4 and max altitude now: 0\n",
            "Present Gain Value: 5\n",
            "Difference between gain value: 5 and current gain: -4 is 1\n",
            "Gain value now: 1 and max altitude now: 1\n",
            "Present Gain Value: 0\n",
            "Difference between gain value: 0 and current gain: 1 is 1\n",
            "Gain value now: 1 and max altitude now: 1\n",
            "Present Gain Value: -7\n",
            "Difference between gain value: -7 and current gain: 1 is -6\n",
            "Gain value now: -6 and max altitude now: 1\n",
            "\n",
            "\n"
          ]
        }
      ]
    },
    {
      "cell_type": "code",
      "source": [
        "for tests in [test_gain_1, test_gain_2]:\n",
        "  altitude_finder = FindHighestAlt(gain=tests)\n",
        "  print(altitude_finder.largestAltitude())"
      ],
      "metadata": {
        "colab": {
          "base_uri": "https://localhost:8080/"
        },
        "id": "gKFufxY63u7c",
        "outputId": "aa790da2-5c33-4a2d-d054-3071e31a0b5f"
      },
      "execution_count": null,
      "outputs": [
        {
          "output_type": "stream",
          "name": "stdout",
          "text": [
            "1\n",
            "0\n"
          ]
        }
      ]
    },
    {
      "cell_type": "markdown",
      "source": [
        "# 724. Find Pivot Index\n",
        "Easy\n",
        "Topics\n",
        "Companies\n",
        "Hint\n",
        "Given an array of integers nums, calculate the pivot index of this array.\n",
        "\n",
        "The pivot index is the index where the sum of all the numbers strictly to the left of the index is equal to the sum of all the numbers strictly to the index's right.\n",
        "\n",
        "If the index is on the left edge of the array, then the left sum is 0 because there are no elements to the left. This also applies to the right edge of the array.\n",
        "\n",
        "Return the leftmost pivot index. If no such index exists, return -1.\n",
        "\n",
        "\n",
        "\n",
        "Example 1:\n",
        "\n",
        "Input: nums = [1,7,3,6,5,6]\n",
        "Output: 3\n",
        "Explanation:\n",
        "The pivot index is 3.\n",
        "Left sum = nums[0] + nums[1] + nums[2] = 1 + 7 + 3 = 11\n",
        "Right sum = nums[4] + nums[5] = 5 + 6 = 11\n",
        "Example 2:\n",
        "\n",
        "Input: nums = [1,2,3]\n",
        "Output: -1\n",
        "Explanation:\n",
        "There is no index that satisfies the conditions in the problem statement.\n",
        "Example 3:\n",
        "\n",
        "Input: nums = [2,1,-1]\n",
        "Output: 0\n",
        "Explanation:\n",
        "The pivot index is 0.\n",
        "Left sum = 0 (no elements to the left of index 0)\n",
        "Right sum = nums[1] + nums[2] = 1 + -1 = 0\n"
      ],
      "metadata": {
        "id": "mHm6W4C_-DTL"
      }
    },
    {
      "cell_type": "code",
      "source": [
        "class FindPivotIndex(object):\n",
        "    def pivotIndex(self, nums):\n",
        "      # creating the instances for left and right pivots\n",
        "      sum_left = []\n",
        "      sum_right = []\n",
        "\n",
        "      # setting the starting index point\n",
        "      index = 0\n",
        "\n",
        "      # looping over until the index reaches the length of the input array\n",
        "      while index < len(nums):\n",
        "\n",
        "        # storing the sum info of the left and right pivots in the appropriate arrays\n",
        "        sum_left.append(sum(nums[:index]))\n",
        "        sum_right.append(sum(nums[index+1:]))\n",
        "\n",
        "        # if there is a match in the sums in the array the index point is returned\n",
        "        if sum_left[index] == sum_right[index]:\n",
        "          return index\n",
        "\n",
        "        # the index point is incremented\n",
        "        index += 1\n",
        "\n",
        "      # if all the checks are failed, -1 is returned according to the given question\n",
        "      return -1"
      ],
      "metadata": {
        "id": "PGBuMlb84Djp"
      },
      "execution_count": null,
      "outputs": []
    },
    {
      "cell_type": "code",
      "source": [
        "test_nums = [\n",
        "  [1, 7, 3, 6, 5, 6], # output : 3\n",
        "  [1, 2, 3], # output : -1\n",
        "  [2, 1, -1] # output : 0\n",
        "]\n",
        "\n",
        "for test in test_nums:\n",
        "  instance = FindPivotIndex()\n",
        "  print(instance.pivotIndex(nums=test))"
      ],
      "metadata": {
        "colab": {
          "base_uri": "https://localhost:8080/"
        },
        "id": "y49yxDQr-N0w",
        "outputId": "956464f8-2abc-4635-9ed6-a693632b0da0"
      },
      "execution_count": null,
      "outputs": [
        {
          "output_type": "stream",
          "name": "stdout",
          "text": [
            "3\n",
            "-1\n",
            "0\n"
          ]
        }
      ]
    },
    {
      "cell_type": "code",
      "source": [
        "sum_left = []\n",
        "sum_right = []\n",
        "\n",
        "index = 0\n",
        "\n",
        "while index < len(test_nums[1]):\n",
        "  sum_left.append(sum(test_nums[1][:index]))\n",
        "  sum_right.append(sum(test_nums[1][index+1:]))\n",
        "\n",
        "  if sum_left[index] == sum_right[index]:\n",
        "    print(\"Matching Index: {0}\".format(index))\n",
        "\n",
        "  print(\"Index: \", index)\n",
        "  index += 1\n",
        "\n",
        "print(\"No Matching index: \", -1)\n",
        "\n",
        "print(\"Original Array: \", test_nums[0])\n",
        "print(\"Sum Left: \", sum_left)\n",
        "print(\"Sum Right: \", sum_right)"
      ],
      "metadata": {
        "colab": {
          "base_uri": "https://localhost:8080/"
        },
        "id": "KS3n4-8R_5-8",
        "outputId": "8a48b4e9-1b08-426f-f8b7-0afa36ad92c3"
      },
      "execution_count": null,
      "outputs": [
        {
          "output_type": "stream",
          "name": "stdout",
          "text": [
            "Index:  0\n",
            "Index:  1\n",
            "Index:  2\n",
            "No Matching index:  -1\n",
            "Original Array:  [1, 7, 3, 6, 5, 6]\n",
            "Sum Left:  [0, 1, 3]\n",
            "Sum Right:  [5, 3, 0]\n"
          ]
        }
      ]
    },
    {
      "cell_type": "markdown",
      "source": [
        "# 1456. Maximum Number of Vowels in a Substring of Given Length\n",
        "Medium\n",
        "Topics\n",
        "Companies\n",
        "Hint\n",
        "Given a string s and an integer k, return the maximum number of vowel letters in any substring of s with length k.\n",
        "\n",
        "Vowel letters in English are 'a', 'e', 'i', 'o', and 'u'.\n",
        "\n",
        "\n",
        "\n",
        "Example 1:\n",
        "\n",
        "Input: s = \"abciiidef\", k = 3\n",
        "Output: 3\n",
        "Explanation: The substring \"iii\" contains 3 vowel letters.\n",
        "Example 2:\n",
        "\n",
        "Input: s = \"aeiou\", k = 2\n",
        "Output: 2\n",
        "Explanation: Any substring of length 2 contains 2 vowels.\n",
        "Example 3:\n",
        "\n",
        "Input: s = \"leetcode\", k = 3\n",
        "Output: 2\n",
        "Explanation: \"lee\", \"eet\" and \"ode\" contain 2 vowels.\n"
      ],
      "metadata": {
        "id": "-bpD4-giFBvw"
      }
    },
    {
      "cell_type": "code",
      "source": [
        "class VowelSlider(object):\n",
        "    def maxVowels(self, s, k):\n",
        "        return k"
      ],
      "metadata": {
        "id": "dewuBfVFFbC9"
      },
      "execution_count": null,
      "outputs": []
    },
    {
      "cell_type": "code",
      "source": [
        "test_inputs = [\n",
        "    {'s' : \"abciiidef\", 'k' : 3},\n",
        "    {'s' : \"aeiou\", 'k' : 2},\n",
        "    {'s' : \"leetcode\", 'k' : 3}\n",
        "]"
      ],
      "metadata": {
        "id": "AUX4qxvJBw5w"
      },
      "execution_count": null,
      "outputs": []
    },
    {
      "cell_type": "code",
      "source": [
        "print(\"leetcode\"[0:3])\n",
        "print(len(\"LEETCODE\"))"
      ],
      "metadata": {
        "colab": {
          "base_uri": "https://localhost:8080/"
        },
        "id": "vg1FYVLXGzsz",
        "outputId": "57148b23-2211-4ba5-b455-e76ffba27bef"
      },
      "execution_count": null,
      "outputs": [
        {
          "output_type": "stream",
          "name": "stdout",
          "text": [
            "lee\n",
            "8\n"
          ]
        }
      ]
    },
    {
      "cell_type": "code",
      "source": [
        "for inputs in test_inputs:\n",
        "  instance = VowelSlider()\n",
        "  print(instance.maxVowels(s=inputs['s'], k=inputs['k']))"
      ],
      "metadata": {
        "colab": {
          "base_uri": "https://localhost:8080/"
        },
        "id": "HZx1Ji-aFhzk",
        "outputId": "a9b18e0a-f742-49f2-cc32-67620ba0ac2d"
      },
      "execution_count": null,
      "outputs": [
        {
          "output_type": "stream",
          "name": "stdout",
          "text": [
            "3\n",
            "2\n",
            "3\n"
          ]
        }
      ]
    },
    {
      "cell_type": "code",
      "source": [
        "max_vowel_count = float('-inf')\n",
        "\n",
        "vowels = \"aeiou\"\n",
        "\n",
        "window = []\n",
        "\n",
        "curr_string : list = []\n",
        "\n",
        "for strings in test_inputs[0]['s']:\n",
        "  if len(curr_string) < test_inputs[0]['k']:\n",
        "    curr_string.append(strings)\n",
        "\n",
        "  elif len(curr_string) == test_inputs[0]['k']:\n",
        "    window.append(\"\".join([letter for letter in curr_string]))\n",
        "    curr_string = []\n",
        "\n",
        "window.append(\"\".join([letter for letter in curr_string]))\n",
        "\n",
        "print(window)"
      ],
      "metadata": {
        "colab": {
          "base_uri": "https://localhost:8080/"
        },
        "id": "UXIygl4CFmyl",
        "outputId": "a21b56d1-fe27-4e18-8790-47dd1f85f5ae"
      },
      "execution_count": null,
      "outputs": [
        {
          "output_type": "stream",
          "name": "stdout",
          "text": [
            "['abc', 'iid', 'f']\n"
          ]
        }
      ]
    },
    {
      "cell_type": "code",
      "source": [],
      "metadata": {
        "id": "JtQjlNApKdy0"
      },
      "execution_count": null,
      "outputs": []
    }
  ]
}