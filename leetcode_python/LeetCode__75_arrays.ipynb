{
  "cells": [
    {
      "cell_type": "markdown",
      "metadata": {
        "id": "HoaS7OwOGEjj"
      },
      "source": [
        "# 1768. Merge Strings Alternately\n",
        "Solved\n",
        "Easy\n",
        "Topics\n",
        "Companies\n",
        "Hint\n",
        "You are given two strings word1 and word2. Merge the strings by adding letters in alternating order, starting with word1. If a string is longer than the other, append the additional letters onto the end of the merged string.\n",
        "\n",
        "Return the merged string.\n",
        "\n",
        "\n",
        "\n",
        "Example 1:\n",
        "\n",
        "Input: word1 = \"abc\", word2 = \"pqr\"\n",
        "Output: \"apbqcr\"\n",
        "Explanation: The merged string will be merged as so:\n",
        "word1:  a   b   c\n",
        "word2:    p   q   r\n",
        "merged: a p b q c r\n",
        "Example 2:\n",
        "\n",
        "Input: word1 = \"ab\", word2 = \"pqrs\"\n",
        "Output: \"apbqrs\"\n",
        "Explanation: Notice that as word2 is longer, \"rs\" is appended to the end.\n",
        "word1:  a   b\n",
        "word2:    p   q   r   s\n",
        "merged: a p b q   r   s\n",
        "Example 3:\n",
        "\n",
        "Input: word1 = \"abcd\", word2 = \"pq\"\n",
        "Output: \"apbqcd\"\n",
        "Explanation: Notice that as word1 is longer, \"cd\" is appended to the end.\n",
        "word1:  a   b   c   d\n",
        "word2:    p   q\n",
        "merged: a p b q c   d\n",
        "\n",
        "\n",
        "Constraints:\n",
        "\n",
        "1 <= word1.length, word2.length <= 100\n",
        "word1 and word2 consist of lowercase English letters."
      ]
    },
    {
      "cell_type": "code",
      "execution_count": null,
      "metadata": {
        "id": "C0kqVP4CFkQs"
      },
      "outputs": [],
      "source": [
        "class MergeStrings(object):\n",
        "  def merge_strings(self, word1, word2):\n",
        "    # merged container array\n",
        "    merged = []\n",
        "\n",
        "    for n, letter in enumerate(word1):\n",
        "      merged.append({\n",
        "          'letter': letter,\n",
        "          'index' : n\n",
        "      })\n",
        "\n",
        "    for n, letter in enumerate(word2):\n",
        "      merged.append({\n",
        "          'letter' : letter,\n",
        "          'index' : n\n",
        "      })\n",
        "\n",
        "    merged.sort(key=lambda x: x['index'])\n",
        "    merged = ''.join([x['letter'] for x in merged])\n",
        "    return merged"
      ]
    },
    {
      "cell_type": "code",
      "execution_count": null,
      "metadata": {
        "colab": {
          "base_uri": "https://localhost:8080/"
        },
        "id": "QiOfmPKJGvjM",
        "outputId": "d9418b31-528c-4b36-bffb-ed6f4326998e"
      },
      "outputs": [
        {
          "name": "stdout",
          "output_type": "stream",
          "text": [
            "apbqcd\n",
            "apbqcr\n",
            "apbqrs\n"
          ]
        }
      ],
      "source": [
        "input_words_1 = [\n",
        "    \"abc\",\"pqr\"\n",
        "]\n",
        "input_words_2 = [\n",
        "    \"abcd\",\"pq\"\n",
        "]\n",
        "input_words_3 = [\n",
        "    \"ab\",\"pqrs\"\n",
        "]\n",
        "\n",
        "inputs_for_check = [\n",
        "    input_words_2, input_words_1, input_words_3\n",
        "]\n",
        "\n",
        "for word in inputs_for_check:\n",
        "  solution = MergeStrings()\n",
        "  print(solution.merge_strings(word1=word[0], word2=word[1]))"
      ]
    },
    {
      "cell_type": "markdown",
      "metadata": {
        "id": "p5AgQ4zLIN_7"
      },
      "source": [
        "# 1071. Greatest Common Divisor of Strings\n",
        "Easy\n",
        "Topics\n",
        "Companies\n",
        "Hint\n",
        "For two strings s and t, we say \"t divides s\" if and only if s = t + t + t + ... + t + t (i.e., t is concatenated with itself one or more times).\n",
        "\n",
        "Given two strings str1 and str2, return the largest string x such that x divides both str1 and str2.\n",
        "\n",
        "\n",
        "\n",
        "Example 1:\n",
        "\n",
        "Input: str1 = \"ABCABC\", str2 = \"ABC\"\n",
        "Output: \"ABC\"\n",
        "Example 2:\n",
        "\n",
        "Input: str1 = \"ABABAB\", str2 = \"ABAB\"\n",
        "Output: \"AB\"\n",
        "Example 3:\n",
        "\n",
        "Input: str1 = \"LEET\", str2 = \"CODE\"\n",
        "Output: \"\"\n",
        "\n",
        "\n",
        "Constraints:\n",
        "\n",
        "1 <= str1.length, str2.length <= 1000\n",
        "str1 and str2 consist of English uppercase letters."
      ]
    },
    {
      "cell_type": "code",
      "execution_count": null,
      "metadata": {
        "id": "6g9ShmuqItY9"
      },
      "outputs": [],
      "source": [
        "import heapq\n",
        "from math import gcd"
      ]
    },
    {
      "cell_type": "code",
      "execution_count": null,
      "metadata": {
        "id": "LnG9NMkjTQxm"
      },
      "outputs": [],
      "source": [
        "class GCD2(object):\n",
        "  def find_gcd(self, str1, str2):\n",
        "    if str1 + str2 != str2 + str1:\n",
        "      return \"\"\n",
        "\n",
        "    gcd_length = gcd(len(str1), len(str2))\n",
        "\n",
        "    return str1[:gcd_length]"
      ]
    },
    {
      "cell_type": "code",
      "execution_count": null,
      "metadata": {
        "id": "5ZpcVLr9HTq3"
      },
      "outputs": [],
      "source": [
        "class GCD(object):\n",
        "  def find_gcd(self, str1 : str, str2 : str) -> str:\n",
        "    window_set = set()\n",
        "    left = 0\n",
        "\n",
        "    for right in range(len(str1)):\n",
        "      while str1[right] in window_set:\n",
        "        window_set.remove(str1[left])\n",
        "        left += 1\n",
        "\n",
        "      window_set.add(str1[right])\n",
        "\n",
        "    window = \"\".join(sorted(window_set))\n",
        "    if window in str2:\n",
        "      return window\n",
        "    else:\n",
        "      return \"\""
      ]
    },
    {
      "cell_type": "code",
      "execution_count": null,
      "metadata": {
        "colab": {
          "base_uri": "https://localhost:8080/"
        },
        "id": "Ntr6loyrL3YU",
        "outputId": "5fabae0a-f2b3-4479-ec23-5ecf30408e32"
      },
      "outputs": [
        {
          "name": "stdout",
          "output_type": "stream",
          "text": [
            "ABC\n",
            "AB\n",
            "\n",
            "TAUXX\n"
          ]
        }
      ],
      "source": [
        "tests_inputs = [\n",
        "    [\"ABCABC\", \"ABC\"],\n",
        "    [\"ABABAB\", \"AB\"],\n",
        "    [\"LEET\", \"CODE\"],\n",
        "    [\"TAUXXTAUXXTAUXXTAUXXTAUXX\", \"TAUXXTAUXXTAUXXTAUXXTAUXXTAUXXTAUXXTAUXXTAUXX\"]\n",
        "]\n",
        "\n",
        "for test in tests_inputs:\n",
        "  solution = GCD2()\n",
        "  print(solution.find_gcd(str1=test[0], str2=test[1]))"
      ]
    },
    {
      "cell_type": "markdown",
      "metadata": {
        "id": "ESl4I59_mCx6"
      },
      "source": [
        "# 1431. Kids With the Greatest Number of Candies\n",
        "Easy\n",
        "Topics\n",
        "Companies\n",
        "Hint\n",
        "There are n kids with candies. You are given an integer array candies, where each candies[i] represents the number of candies the ith kid has, and an integer extraCandies, denoting the number of extra candies that you have.\n",
        "\n",
        "Return a boolean array result of length n, where result[i] is true if, after giving the ith kid all the extraCandies, they will have the greatest number of candies among all the kids, or false otherwise.\n",
        "\n",
        "Note that multiple kids can have the greatest number of candies.\n",
        "\n",
        "\n",
        "\n",
        "Example 1:\n",
        "\n",
        "Input: candies = [2,3,5,1,3], extraCandies = 3\n",
        "Output: [true,true,true,false,true]\n",
        "Explanation: If you give all extraCandies to:\n",
        "- Kid 1, they will have 2 + 3 = 5 candies, which is the greatest among the kids.\n",
        "- Kid 2, they will have 3 + 3 = 6 candies, which is the greatest among the kids.\n",
        "- Kid 3, they will have 5 + 3 = 8 candies, which is the greatest among the kids.\n",
        "- Kid 4, they will have 1 + 3 = 4 candies, which is not the greatest among the kids.\n",
        "- Kid 5, they will have 3 + 3 = 6 candies, which is the greatest among the kids.\n",
        "Example 2:\n",
        "\n",
        "Input: candies = [4,2,1,1,2], extraCandies = 1\n",
        "Output: [true,false,false,false,false]\n",
        "Explanation: There is only 1 extra candy.\n",
        "Kid 1 will always have the greatest number of candies, even if a different kid is given the extra candy.\n",
        "Example 3:\n",
        "\n",
        "Input: candies = [12,1,12], extraCandies = 10\n",
        "Output: [true,false,true]"
      ]
    },
    {
      "cell_type": "code",
      "execution_count": null,
      "metadata": {
        "id": "FmIpj21am_4Z"
      },
      "outputs": [],
      "source": [
        "candies = [4,2,1,1,2]\n",
        "extraCandies = 1"
      ]
    },
    {
      "cell_type": "code",
      "execution_count": null,
      "metadata": {
        "id": "Ne45QiaYL-Jy"
      },
      "outputs": [],
      "source": [
        "class Solution(object):\n",
        "    def kidsWithCandies(self, candies, extraCandies):\n",
        "        greatest_no_of_candies = max(candies)\n",
        "\n",
        "        updated_candies = [i + extraCandies for i in candies]\n",
        "        return [i >= greatest_no_of_candies for i in updated_candies]"
      ]
    },
    {
      "cell_type": "code",
      "execution_count": null,
      "metadata": {
        "colab": {
          "base_uri": "https://localhost:8080/"
        },
        "id": "86_HP1UGAF0a",
        "outputId": "afd1815b-7101-44ef-e08c-9f48aee2462e"
      },
      "outputs": [
        {
          "name": "stdout",
          "output_type": "stream",
          "text": [
            "[True, False, False, False, False]\n"
          ]
        }
      ],
      "source": [
        "print(Solution().kidsWithCandies(candies, extraCandies))"
      ]
    },
    {
      "cell_type": "markdown",
      "metadata": {
        "id": "0wcJ_HVEBlKI"
      },
      "source": [
        "# 605. Can Place Flowers\n",
        "Easy\n",
        "Topics\n",
        "Companies\n",
        "You have a long flowerbed in which some of the plots are planted, and some are not. However, flowers cannot be planted in adjacent plots.\n",
        "\n",
        "Given an integer array flowerbed containing 0's and 1's, where 0 means empty and 1 means not empty, and an integer n, return true if n new flowers can be planted in the flowerbed without violating the no-adjacent-flowers rule and false otherwise.\n",
        "\n",
        "\n",
        "\n",
        "Example 1:\n",
        "\n",
        "Input: flowerbed = [1,0,0,0,1], n = 1\n",
        "Output: true\n",
        "Example 2:\n",
        "\n",
        "Input: flowerbed = [1,0,0,0,1], n = 2\n",
        "Output: false\n",
        "\n",
        "\n",
        "Constraints:\n",
        "\n",
        "1 <= flowerbed.length <= 2 * 104\n",
        "flowerbed[i] is 0 or 1.\n",
        "There are no two adjacent flowers in flowerbed.\n",
        "0 <= n <= flowerbed.length"
      ]
    },
    {
      "cell_type": "code",
      "execution_count": null,
      "metadata": {
        "id": "4OClwDxNEBp_"
      },
      "outputs": [],
      "source": [
        "import heapq"
      ]
    },
    {
      "cell_type": "code",
      "execution_count": null,
      "metadata": {
        "id": "VVv2wNL8CATR"
      },
      "outputs": [],
      "source": [
        "class Solution(object):\n",
        "    def canPlaceFlowers(self, flowerbed, n):\n",
        "      # edge case: there is no n mentioned to fill the slots\n",
        "      if n == 0:\n",
        "        return True\n",
        "\n",
        "      # another edge case: length of the flowerslots is 1\n",
        "      if len(flowerbed) == 1:\n",
        "        if flowerbed[0] == 0:\n",
        "          return True\n",
        "        else:\n",
        "          return False\n",
        "\n",
        "      # main functionality\n",
        "      for slotIndex, slots in enumerate(flowerbed):\n",
        "        if slots == 0:\n",
        "          if slotIndex == 0 and flowerbed[slotIndex + 1] == 0:\n",
        "            if n == 0:\n",
        "              return True\n",
        "            flowerbed[slotIndex] = 1\n",
        "            n -= 1\n",
        "          elif slotIndex == len(flowerbed) - 1 and flowerbed[slotIndex - 1] == 0:\n",
        "            if n == 0:\n",
        "              return True\n",
        "            flowerbed[slotIndex] = 1\n",
        "            n -= 1\n",
        "          elif flowerbed[slotIndex] == 0 and flowerbed[slotIndex + 1] == 0 and flowerbed[slotIndex - 1] == 0:\n",
        "            if n == 0:\n",
        "              return True\n",
        "            flowerbed[slotIndex] = 1\n",
        "            n -= 1\n",
        "\n",
        "      if n == 0:\n",
        "        return True\n",
        "      else:\n",
        "        return False\n",
        "\n",
        "    def canPlaceFlowers2(self, flowerbed, n):\n",
        "        if n == 0:\n",
        "            return True  # No need to plant any flowers\n",
        "\n",
        "        length = len(flowerbed)\n",
        "\n",
        "        for i in range(length):\n",
        "            if flowerbed[i] == 0:\n",
        "                # Check left and right neighbors\n",
        "                left_empty = (i == 0) or (flowerbed[i - 1] == 0)  # True if first element or left is 0\n",
        "                right_empty = (i == length - 1) or (flowerbed[i + 1] == 0)  # True if last element or right is 0\n",
        "\n",
        "                if left_empty and right_empty:\n",
        "                    flowerbed[i] = 1  # Plant a flower\n",
        "                    n -= 1  # Decrease the required flowers\n",
        "\n",
        "                    if n == 0:  # If no more flowers need to be planted, return True early\n",
        "                        return True\n",
        "\n",
        "        return n == 0  # If we planted all `n` flowers, return True; otherwise, False"
      ]
    },
    {
      "cell_type": "code",
      "execution_count": null,
      "metadata": {
        "id": "uYOiE716BMno"
      },
      "outputs": [],
      "source": [
        "# inputs to test\n",
        "flowerbed_1 = [1,0,0,0,1]\n",
        "n_1 = 1\n",
        "\n",
        "flowerbed_2 = [1,0,0,0,1]\n",
        "n_2 = 2\n",
        "\n",
        "flowerbed_3 = [0,0,1,0,0]\n",
        "n_3 = 1\n",
        "\n",
        "# tester function\n",
        "class Tester:\n",
        "  def __init__(self, flowerbed : list[int], n : int) -> None:\n",
        "    self.flowerbed = flowerbed\n",
        "    self.n = n\n",
        "\n",
        "  def test(self):\n",
        "    return Solution().canPlaceFlowers(self.flowerbed, self.n)"
      ]
    },
    {
      "cell_type": "code",
      "execution_count": null,
      "metadata": {
        "colab": {
          "base_uri": "https://localhost:8080/"
        },
        "id": "_KhwuwEoCHAx",
        "outputId": "f710f8b2-64a9-4066-e4ff-c9e77178f18b"
      },
      "outputs": [
        {
          "name": "stdout",
          "output_type": "stream",
          "text": [
            "True\n",
            "False\n",
            "True\n"
          ]
        }
      ],
      "source": [
        "for i in [flowerbed_1, n_1], [flowerbed_2, n_2], [flowerbed_3, n_3]:\n",
        "  tester = Tester(i[0], i[1])\n",
        "  print(tester.test())"
      ]
    },
    {
      "cell_type": "markdown",
      "metadata": {
        "id": "1WNOlk0yJq55"
      },
      "source": [
        "# 345. Reverse Vowels of a String\n",
        "Easy\n",
        "Topics\n",
        "Companies\n",
        "Given a string s, reverse only all the vowels in the string and return it.\n",
        "\n",
        "The vowels are 'a', 'e', 'i', 'o', and 'u', and they can appear in both lower and upper cases, more than once.\n",
        "\n",
        "\n",
        "\n",
        "Example 1:\n",
        "\n",
        "Input: s = \"IceCreAm\"\n",
        "\n",
        "Output: \"AceCreIm\"\n",
        "\n",
        "Explanation:\n",
        "\n",
        "The vowels in s are ['I', 'e', 'e', 'A']. On reversing the vowels, s becomes \"AceCreIm\".\n",
        "\n",
        "Example 2:\n",
        "\n",
        "Input: s = \"leetcode\"\n",
        "\n",
        "Output: \"leotcede\"\n",
        "\n",
        "\n",
        "\n",
        "Constraints:\n",
        "\n",
        "1 <= s.length <= 3 * 105\n",
        "s consist of printable ASCII characters."
      ]
    },
    {
      "cell_type": "code",
      "execution_count": null,
      "metadata": {
        "id": "1_d7jQWIEssQ"
      },
      "outputs": [],
      "source": [
        "class Solution(object):\n",
        "    def reverseVowels(self, s: str) -> str:\n",
        "        vowels = set(\"aeiouAEIOU\")  # Define the set of vowels (both lowercase and uppercase)\n",
        "        s = list(s)  # Convert string to a list to modify characters\n",
        "        left, right = 0, len(s) - 1  # Initialize two pointers\n",
        "\n",
        "        while left < right:\n",
        "            # Move left pointer forward if it's not a vowel\n",
        "            while left < right and s[left] not in vowels:\n",
        "                left += 1\n",
        "            # Move right pointer backward if it's not a vowel\n",
        "            while left < right and s[right] not in vowels:\n",
        "                right -= 1\n",
        "            # Swap vowels\n",
        "            s[left], s[right] = s[right], s[left]\n",
        "            # Move pointers inward\n",
        "            left += 1\n",
        "            right -= 1\n",
        "\n",
        "        return \"\".join(s)  # Convert list back to string and return"
      ]
    },
    {
      "cell_type": "code",
      "execution_count": null,
      "metadata": {
        "id": "u-cjQuvrLqxq"
      },
      "outputs": [],
      "source": [
        "s =  \"leetcode\"\n",
        "vowels = ['a', 'e', 'i', 'o', 'u']\n"
      ]
    },
    {
      "cell_type": "code",
      "execution_count": null,
      "metadata": {
        "colab": {
          "base_uri": "https://localhost:8080/"
        },
        "id": "EIppIGdzJ4Un",
        "outputId": "9183f124-baec-48c0-b775-4bc25705ecc3"
      },
      "outputs": [
        {
          "name": "stdout",
          "output_type": "stream",
          "text": [
            "leotcede leotcede\n",
            "AceCreIm AceCreIm\n"
          ]
        }
      ],
      "source": [
        "s_1 = \"leetcode\"\n",
        "Output_1 = \"leotcede\"\n",
        "\n",
        "s_2 = \"IceCreAm\"\n",
        "Output_2 = \"AceCreIm\"\n",
        "\n",
        "testers = [[s_1, Output_1], [s_2, Output_2]]\n",
        "for test in testers:\n",
        "  print(Solution().reverseVowels(test[0]), test[1])"
      ]
    },
    {
      "cell_type": "markdown",
      "metadata": {
        "id": "rb-KOPfHU6Wu"
      },
      "source": [
        "# 151. Reverse Words in a String\n",
        "Medium\n",
        "Topics\n",
        "Companies\n",
        "Given an input string s, reverse the order of the words.\n",
        "\n",
        "A word is defined as a sequence of non-space characters. The words in s will be separated by at least one space.\n",
        "\n",
        "Return a string of the words in reverse order concatenated by a single space.\n",
        "\n",
        "Note that s may contain leading or trailing spaces or multiple spaces between two words. The returned string should only have a single space separating the words. Do not include any extra spaces.\n",
        "\n",
        "\n",
        "\n",
        "Example 1:\n",
        "\n",
        "Input: s = \"the sky is blue\"\n",
        "Output: \"blue is sky the\"\n",
        "Example 2:\n",
        "\n",
        "Input: s = \"  hello world  \"\n",
        "Output: \"world hello\"\n",
        "Explanation: Your reversed string should not contain leading or trailing spaces.\n",
        "Example 3:\n",
        "\n",
        "Input: s = \"a good   example\"\n",
        "Output: \"example good a\"\n",
        "Explanation: You need to reduce multiple spaces between two words to a single space in the reversed string."
      ]
    },
    {
      "cell_type": "code",
      "execution_count": null,
      "metadata": {
        "id": "gA-02CbbKRhJ"
      },
      "outputs": [],
      "source": [
        "s_1 = \"the sky is blue\"\n",
        "s_2 = \" hello world \"\n",
        "s_3 = \"a good   example\"\n",
        "\n",
        "def format_str(s : str) -> str:\n",
        "  s_listed = s.strip().split(' ')[::-1]\n",
        "  output = []\n",
        "  for word in s_listed:\n",
        "    if word != '':\n",
        "      output.append(word)\n",
        "\n",
        "  s_listed = ' '.join(output)\n",
        "  print(s_listed)"
      ]
    },
    {
      "cell_type": "code",
      "execution_count": null,
      "metadata": {
        "colab": {
          "base_uri": "https://localhost:8080/"
        },
        "id": "1Yw9KnCtVTPw",
        "outputId": "a226ca22-dd5d-42b7-f091-ba7c800e4e9e"
      },
      "outputs": [
        {
          "name": "stdout",
          "output_type": "stream",
          "text": [
            "blue is sky the\n",
            "world hello\n",
            "example good a\n"
          ]
        }
      ],
      "source": [
        "format_str(s_1)\n",
        "format_str(s_2)\n",
        "format_str(s_3)"
      ]
    },
    {
      "cell_type": "markdown",
      "metadata": {
        "id": "YepWj_B-WxXf"
      },
      "source": [
        "# 238. Product of Array Except Self\n",
        "Medium\n",
        "Topics\n",
        "Companies\n",
        "Hint\n",
        "Given an integer array nums, return an array answer such that answer[i] is equal to the product of all the elements of nums except nums[i].\n",
        "\n",
        "The product of any prefix or suffix of nums is guaranteed to fit in a 32-bit integer.\n",
        "\n",
        "You must write an algorithm that runs in O(n) time and without using the division operation.\n",
        "\n",
        "\n",
        "\n",
        "Example 1:\n",
        "\n",
        "Input: nums = [1,2,3,4]\n",
        "Output: [24,12,8,6]\n",
        "Example 2:\n",
        "\n",
        "Input: nums = [-1,1,0,-3,3]\n",
        "Output: [0,0,9,0,0]\n",
        "\n",
        "\n",
        "Constraints:\n",
        "\n",
        "2 <= nums.length <= 105\n",
        "-30 <= nums[i] <= 30\n",
        "The input is generated such that answer[i] is guaranteed to fit in a 32-bit integer."
      ]
    },
    {
      "cell_type": "code",
      "execution_count": null,
      "metadata": {
        "id": "PXB7_8zgW8n-"
      },
      "outputs": [],
      "source": [
        "nums_1 = [1,2,3,4]\n",
        "Output_1 = [24,12,8,6]\n",
        "\n",
        "nums_2 = [-1,1,0,-3,3]\n",
        "Output_2 = [0,0,9,0,0]"
      ]
    },
    {
      "cell_type": "code",
      "execution_count": null,
      "metadata": {
        "id": "Vca1fIylVX72"
      },
      "outputs": [],
      "source": [
        "def productExceptSelf(nums):\n",
        "  # final answer product\n",
        "  answer = []\n",
        "\n",
        "  # tracker arrays\n",
        "  prefix = []\n",
        "  suffix = []\n",
        "\n",
        "  # loop through the nums\n",
        "  for index, num in enumerate(nums):\n",
        "    prefix.append(nums[:index])\n",
        "    suffix.append(nums[index+1:])\n",
        "\n",
        "  for index, el in enumerate(prefix):\n",
        "    product = 1\n",
        "    for num in el:\n",
        "      product *= num\n",
        "    prefix[index] = product\n",
        "\n",
        "  for index, el in enumerate(suffix):\n",
        "    product = 1\n",
        "    for num in el:\n",
        "      product *= num\n",
        "    suffix[index] = product\n",
        "\n",
        "  for index, el in enumerate(prefix):\n",
        "    answer.append(el * suffix[index])\n",
        "\n",
        "  return answer"
      ]
    },
    {
      "cell_type": "code",
      "execution_count": null,
      "metadata": {
        "colab": {
          "base_uri": "https://localhost:8080/"
        },
        "id": "pjEZdbx6rxx0",
        "outputId": "0ddf37b7-30fc-477a-866a-0739a778a02c"
      },
      "outputs": [
        {
          "name": "stdout",
          "output_type": "stream",
          "text": [
            "[24, 12, 8, 6]\n"
          ]
        }
      ],
      "source": [
        "print(productExceptSelf(nums_1))"
      ]
    },
    {
      "cell_type": "markdown",
      "metadata": {
        "id": "VqFMWA2_VMhp"
      },
      "source": [
        "# 443. String Compression\n",
        "Medium\n",
        "Topics\n",
        "Companies\n",
        "Hint\n",
        "Given an array of characters chars, compress it using the following algorithm:\n",
        "\n",
        "Begin with an empty string s. For each group of consecutive repeating characters in chars:\n",
        "\n",
        "If the group's length is 1, append the character to s.\n",
        "Otherwise, append the character followed by the group's length.\n",
        "The compressed string s should not be returned separately, but instead, be stored in the input character array chars. Note that group lengths that are 10 or longer will be split into multiple characters in chars.\n",
        "\n",
        "After you are done modifying the input array, return the new length of the array.\n",
        "\n",
        "You must write an algorithm that uses only constant extra space.\n",
        "\n",
        "\n",
        "\n",
        "Example 1:\n",
        "\n",
        "Input: chars = [\"a\",\"a\",\"b\",\"b\",\"c\",\"c\",\"c\"]\n",
        "Output: Return 6, and the first 6 characters of the input array should be: [\"a\",\"2\",\"b\",\"2\",\"c\",\"3\"]\n",
        "Explanation: The groups are \"aa\", \"bb\", and \"ccc\". This compresses to \"a2b2c3\".\n",
        "Example 2:\n",
        "\n",
        "Input: chars = [\"a\"]\n",
        "Output: Return 1, and the first character of the input array should be: [\"a\"]\n",
        "Explanation: The only group is \"a\", which remains uncompressed since it's a single character.\n",
        "Example 3:\n",
        "\n",
        "Input: chars = [\"a\",\"b\",\"b\",\"b\",\"b\",\"b\",\"b\",\"b\",\"b\",\"b\",\"b\",\"b\",\"b\"]\n",
        "Output: Return 4, and the first 4 characters of the input array should be: [\"a\",\"b\",\"1\",\"2\"].\n",
        "Explanation: The groups are \"a\" and \"bbbbbbbbbbbb\". This compresses to \"ab12\"."
      ]
    },
    {
      "cell_type": "code",
      "execution_count": 1,
      "metadata": {},
      "outputs": [],
      "source": [
        "import heapq\n",
        "from collections import Counter"
      ]
    },
    {
      "cell_type": "code",
      "execution_count": 32,
      "metadata": {
        "id": "joR9JKtWVNVR"
      },
      "outputs": [],
      "source": [
        "class Compressor:\n",
        "  def __init__(self, char : list[str]) -> None:\n",
        "    self.char = char\n",
        "\n",
        "  def compress(self):\n",
        "    # initializing a min heap\n",
        "    min_heap = []\n",
        "\n",
        "    # counting the frequency of each character\n",
        "    count_frequencies = Counter(self.char)\n",
        "    \n",
        "    # add the frequencies in the min_heap\n",
        "    for counts in count_frequencies.items():\n",
        "      heapq.heappush(\n",
        "        min_heap, counts\n",
        "    )\n",
        "    \n",
        "    # flattening the array and filtering out the ones\n",
        "    min_heap = [str(item) for row in min_heap for item in row if item != 1]\n",
        "    self.char = min_heap\n",
        "    \n",
        "    # returning the length of the array\n",
        "    return len(self.char)\n",
        "  \n",
        "  def compress_two_pointer(self):\n",
        "    # Initialize Two Pointers\n",
        "    write = 0\n",
        "    i = 0\n",
        "\n",
        "    # Iterate Through the Characters\n",
        "    while i < len(self.char):\n",
        "      # Write the Character to the Array\n",
        "      self.char[write] = self.char[i]\n",
        "      write += 1\n",
        "      count = 1\n",
        "      i += 1\n",
        "      \n",
        "      # Move to the next character or the end of the array\n",
        "      while i < len(self.char) and self.char[i] == self.char[i - 1]:\n",
        "        count += 1\n",
        "        i += 1\n",
        "      \n",
        "      # Write the Count to the Array if the Count is more than 1\n",
        "      if count > 1:\n",
        "        self.char[write:write + len(str(count))] = str(count)\n",
        "        write += len(str(count))\n",
        "\n",
        "        "
      ]
    },
    {
      "cell_type": "code",
      "execution_count": 33,
      "metadata": {},
      "outputs": [
        {
          "ename": "KeyboardInterrupt",
          "evalue": "",
          "output_type": "error",
          "traceback": [
            "\u001b[1;31m---------------------------------------------------------------------------\u001b[0m",
            "\u001b[1;31mKeyboardInterrupt\u001b[0m                         Traceback (most recent call last)",
            "Cell \u001b[1;32mIn[33], line 5\u001b[0m\n\u001b[0;32m      3\u001b[0m \u001b[38;5;28;01mfor\u001b[39;00m \u001b[38;5;28minput\u001b[39m \u001b[38;5;129;01min\u001b[39;00m inputs:\n\u001b[0;32m      4\u001b[0m     compressor \u001b[38;5;241m=\u001b[39m Compressor(\u001b[38;5;28minput\u001b[39m)\n\u001b[1;32m----> 5\u001b[0m     \u001b[38;5;28mprint\u001b[39m(compressor\u001b[38;5;241m.\u001b[39mcompress_two_pointer())\n",
            "Cell \u001b[1;32mIn[32], line 38\u001b[0m, in \u001b[0;36mCompressor.compress_two_pointer\u001b[1;34m(self)\u001b[0m\n\u001b[0;32m     36\u001b[0m     \u001b[38;5;28mself\u001b[39m\u001b[38;5;241m.\u001b[39mchar[write \u001b[38;5;241m-\u001b[39m \u001b[38;5;241m1\u001b[39m] \u001b[38;5;241m=\u001b[39m read\n\u001b[0;32m     37\u001b[0m     \u001b[38;5;28mself\u001b[39m\u001b[38;5;241m.\u001b[39mchar\u001b[38;5;241m.\u001b[39mappend(\u001b[38;5;28mstr\u001b[39m(\u001b[38;5;28mlen\u001b[39m(\u001b[38;5;28mself\u001b[39m\u001b[38;5;241m.\u001b[39mchar[write \u001b[38;5;241m-\u001b[39m \u001b[38;5;241m1\u001b[39m:])))\n\u001b[1;32m---> 38\u001b[0m     write \u001b[38;5;241m+\u001b[39m\u001b[38;5;241m=\u001b[39m \u001b[38;5;241m1\u001b[39m\n\u001b[0;32m     42\u001b[0m \u001b[38;5;28;01mreturn\u001b[39;00m \u001b[38;5;28mself\u001b[39m\u001b[38;5;241m.\u001b[39mchar\n",
            "\u001b[1;31mKeyboardInterrupt\u001b[0m: "
          ]
        }
      ],
      "source": [
        "inputs = [[\"a\",\"a\",\"b\",\"b\",\"c\",\"c\",\"c\"], ['a'], [\"a\",\"b\",\"b\",\"b\",\"b\",\"b\",\"b\",\"b\",\"b\",\"b\",\"b\",\"b\",\"b\"]]\n",
        "\n",
        "for input in inputs:\n",
        "    compressor = Compressor(input)\n",
        "    print(compressor.compress_two_pointer())"
      ]
    },
    {
      "cell_type": "markdown",
      "metadata": {
        "id": "sM0ogSSDjFF7"
      },
      "source": [
        "# 334. Increasing Triplet Subsequence\n",
        "Medium\n",
        "Topics\n",
        "Companies\n",
        "Given an integer array nums, return true if there exists a triple of indices (i, j, k) such that i < j < k and nums[i] < nums[j] < nums[k]. If no such indices exists, return false.\n",
        "\n",
        "\n",
        "\n",
        "Example 1:\n",
        "\n",
        "Input: nums = [1,2,3,4,5]\n",
        "Output: true\n",
        "Explanation: Any triplet where i < j < k is valid.\n",
        "Example 2:\n",
        "\n",
        "Input: nums = [5,4,3,2,1]\n",
        "Output: false\n",
        "Explanation: No triplet exists.\n",
        "Example 3:\n",
        "\n",
        "Input: nums = [2,1,5,0,4,6]\n",
        "Output: true\n",
        "Explanation: The triplet (3, 4, 5) is valid because nums[3] == 0 < nums[4] == 4 < nums[5] == 6.\n",
        "\n",
        "\n",
        "Constraints:\n",
        "\n",
        "1 <= nums.length <= 5 * 105\n",
        "-231 <= nums[i] <= 231 - 1\n",
        "\n",
        "\n",
        "Follow up: Could you implement a solution that runs in O(n) time complexity and O(1) space complexity?"
      ]
    },
    {
      "cell_type": "code",
      "execution_count": null,
      "metadata": {
        "id": "dkQvxUlgkbSj"
      },
      "outputs": [],
      "source": [
        "from collections import deque\n",
        "import heapq"
      ]
    },
    {
      "cell_type": "code",
      "execution_count": null,
      "metadata": {
        "id": "3nqNEf-ujFp6"
      },
      "outputs": [],
      "source": [
        "class IncreaseTriplet:\n",
        "  def __init__(self, nums : list[int]) -> None:\n",
        "    self.nums = nums\n",
        "\n",
        "  def increase(self):\n",
        "    n = 3\n",
        "\n",
        "    queve = deque()\n",
        "    min_heap = []\n",
        "\n",
        "    if len(self.nums) < 3:\n",
        "      return []\n",
        "\n",
        "    for i in range(len(self.nums)):\n",
        "      if len(queve) == 3:\n",
        "        heapq.heappush(\n",
        "            min_heap, list(queve)\n",
        "        )\n",
        "        queve.popleft()\n",
        "        queve.append(self.nums[i])\n",
        "      elif len(queve) < 3:\n",
        "        queve.append(self.nums[i])\n",
        "\n",
        "    heapq.heappush(\n",
        "        min_heap, list(queve)\n",
        "    )\n",
        "\n",
        "    result = []\n",
        "\n",
        "    for nums in min_heap:\n",
        "      if nums[0] < nums[1] < nums[2]:\n",
        "        result.append(True)\n",
        "      else:\n",
        "        result.append(False)\n",
        "\n",
        "    if True in result:\n",
        "      return True\n",
        "    else:\n",
        "      return False"
      ]
    },
    {
      "cell_type": "code",
      "execution_count": null,
      "metadata": {
        "colab": {
          "base_uri": "https://localhost:8080/"
        },
        "id": "3Qx2cf1ulWu0",
        "outputId": "9a18b841-d5b9-4dad-c1bb-8fecd7a98cd1"
      },
      "outputs": [
        {
          "name": "stdout",
          "output_type": "stream",
          "text": [
            "False\n"
          ]
        }
      ],
      "source": [
        "print(IncreaseTriplet([20,100,10,12,5,13]).increase())"
      ]
    },
    {
      "cell_type": "code",
      "execution_count": null,
      "metadata": {
        "id": "P9_dDDQWmHQN"
      },
      "outputs": [],
      "source": []
    }
  ],
  "metadata": {
    "colab": {
      "provenance": []
    },
    "kernelspec": {
      "display_name": "Python 3",
      "name": "python3"
    },
    "language_info": {
      "codemirror_mode": {
        "name": "ipython",
        "version": 3
      },
      "file_extension": ".py",
      "mimetype": "text/x-python",
      "name": "python",
      "nbconvert_exporter": "python",
      "pygments_lexer": "ipython3",
      "version": "3.11.5"
    }
  },
  "nbformat": 4,
  "nbformat_minor": 0
}
